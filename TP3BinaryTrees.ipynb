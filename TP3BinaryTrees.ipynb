{
 "cells": [
  {
   "cell_type": "markdown",
   "metadata": {},
   "source": [
    "# Arbres binaires\n",
    "\n",
    "Le but de ce TP est d'implanter les fonctions usuelles telles que la *génération exhaustive* (fabriquer tous les éléments de l'ensemble), *rank* et *unrank* sur l'ensemble des [arbres binaires](https://fr.wikipedia.org/wiki/Arbre_binaire).  \n",
    "\n",
    "Pour représenter les arbres binaires en python, on utilisera la structure suivante.\n",
    "\n",
    "**Exécutez les cellules suivantes et observez les exemples**."
   ]
  },
  {
   "cell_type": "code",
   "execution_count": 128,
   "metadata": {},
   "outputs": [],
   "source": [
    "class BinaryTree():\n",
    "    \n",
    "    def __init__(self, children = None):\n",
    "        \"\"\"\n",
    "        A binary tree is either a leaf or a node with two subtrees.\n",
    "        \n",
    "        INPUT:\n",
    "            \n",
    "            - children, either None (for a leaf), or a list of size excatly 2 \n",
    "            of either two binary trees or 2 objects that can be made into binary trees\n",
    "        \"\"\"\n",
    "        self._isleaf = (children is None)\n",
    "        if not self._isleaf:\n",
    "            if len(children) != 2:\n",
    "                raise ValueError(\"A binary tree needs exactly two children\")\n",
    "            self._children = tuple(c if isinstance(c,BinaryTree) else BinaryTree(c) for c in children)\n",
    "        self._size = None\n",
    "        \n",
    "    def __repr__(self):\n",
    "        if self.is_leaf():\n",
    "            return \"leaf\"\n",
    "        return str(self._children)\n",
    "    \n",
    "    def __eq__(self, other):\n",
    "        \"\"\"\n",
    "        Return true if other represents the same binary tree as self\n",
    "        \"\"\"\n",
    "        if not isinstance(other, BinaryTree):\n",
    "            return False\n",
    "        if self.is_leaf():\n",
    "            return other.is_leaf()\n",
    "        if other.is_leaf():\n",
    "            return False\n",
    "        return self.left() == other.left() and self.right() == other.right()\n",
    "    \n",
    "    \n",
    "    def left(self):\n",
    "        \"\"\"\n",
    "        Return the left subtree of self\n",
    "        \"\"\"\n",
    "        return self._children[0]\n",
    "    \n",
    "    def right(self):\n",
    "        \"\"\"\n",
    "        Return the right subtree of self\n",
    "        \"\"\"\n",
    "        return self._children[1]\n",
    "    \n",
    "    def is_leaf(self):\n",
    "        \"\"\"\n",
    "        Return true is self is a leaf\n",
    "        \"\"\"\n",
    "        return self._isleaf\n",
    "    \n",
    "    def _compute_size(self):\n",
    "        \"\"\"\n",
    "        Recursively computes the size of self\n",
    "        \"\"\"\n",
    "        if self.is_leaf():\n",
    "            self._size = 0\n",
    "        else:\n",
    "            self._size = self.left().size() + self.right().size() + 1\n",
    "    \n",
    "    def size(self):\n",
    "        \"\"\"\n",
    "        Return the number of non leaf nodes in the binary tree\n",
    "        \"\"\"\n",
    "        if self._size is None:\n",
    "            self._compute_size()\n",
    "        return self._size\n",
    "    \n",
    "    def height(self):\n",
    "        if self._isleaf:\n",
    "            return 0\n",
    "        else:\n",
    "            aux_left = self.left()\n",
    "            height_left = aux_left.height()\n",
    "            aux_right = self.right()\n",
    "            height_right = aux_right.height()\n",
    "            return 1+max(height_left, height_right)\n",
    "        \n",
    "leaf = BinaryTree()\n",
    "        "
   ]
  },
  {
   "cell_type": "code",
   "execution_count": 81,
   "metadata": {},
   "outputs": [
    {
     "data": {
      "text/plain": [
       "(leaf, leaf)"
      ]
     },
     "execution_count": 81,
     "metadata": {},
     "output_type": "execute_result"
    }
   ],
   "source": [
    "t = BinaryTree((leaf, leaf))\n",
    "t"
   ]
  },
  {
   "cell_type": "code",
   "execution_count": 82,
   "metadata": {},
   "outputs": [
    {
     "data": {
      "text/plain": [
       "1"
      ]
     },
     "execution_count": 82,
     "metadata": {},
     "output_type": "execute_result"
    }
   ],
   "source": [
    "t.size()"
   ]
  },
  {
   "cell_type": "code",
   "execution_count": 83,
   "metadata": {},
   "outputs": [
    {
     "data": {
      "text/plain": [
       "((leaf, leaf), leaf)"
      ]
     },
     "execution_count": 83,
     "metadata": {},
     "output_type": "execute_result"
    }
   ],
   "source": [
    "t = BinaryTree([[leaf,leaf], leaf]) # a tree of size 2\n",
    "t"
   ]
  },
  {
   "cell_type": "code",
   "execution_count": 84,
   "metadata": {},
   "outputs": [
    {
     "data": {
      "text/plain": [
       "2"
      ]
     },
     "execution_count": 84,
     "metadata": {},
     "output_type": "execute_result"
    }
   ],
   "source": [
    "t.size()"
   ]
  },
  {
   "cell_type": "code",
   "execution_count": 85,
   "metadata": {},
   "outputs": [
    {
     "data": {
      "text/plain": [
       "(leaf, (leaf, leaf))"
      ]
     },
     "execution_count": 85,
     "metadata": {},
     "output_type": "execute_result"
    }
   ],
   "source": [
    "t = BinaryTree([leaf, [leaf,leaf]]) # a different tree of size 2\n",
    "t"
   ]
  },
  {
   "cell_type": "code",
   "execution_count": 86,
   "metadata": {},
   "outputs": [
    {
     "data": {
      "text/plain": [
       "2"
      ]
     },
     "execution_count": 86,
     "metadata": {},
     "output_type": "execute_result"
    }
   ],
   "source": [
    "t.size()"
   ]
  },
  {
   "cell_type": "code",
   "execution_count": 87,
   "metadata": {},
   "outputs": [
    {
     "data": {
      "text/plain": [
       "((leaf, leaf), (leaf, leaf))"
      ]
     },
     "execution_count": 87,
     "metadata": {},
     "output_type": "execute_result"
    }
   ],
   "source": [
    "t = BinaryTree([[leaf, leaf], [leaf, leaf]]) # a tree of size 3\n",
    "t"
   ]
  },
  {
   "cell_type": "code",
   "execution_count": 88,
   "metadata": {},
   "outputs": [
    {
     "data": {
      "text/plain": [
       "3"
      ]
     },
     "execution_count": 88,
     "metadata": {},
     "output_type": "execute_result"
    }
   ],
   "source": [
    "t.size()"
   ]
  },
  {
   "cell_type": "markdown",
   "metadata": {},
   "source": [
    "Il y a 5 arbres binaires de taille 3. L'un deux est celui que nous venons de construire. \n",
    "\n",
    "**Construisez explicitement les 4 autres**"
   ]
  },
  {
   "cell_type": "code",
   "execution_count": 89,
   "metadata": {},
   "outputs": [
    {
     "data": {
      "text/plain": [
       "((leaf, leaf), (leaf, leaf))"
      ]
     },
     "execution_count": 89,
     "metadata": {},
     "output_type": "execute_result"
    }
   ],
   "source": [
    "t1 = BinaryTree([[leaf, leaf], [leaf, leaf]])\n",
    "t1"
   ]
  },
  {
   "cell_type": "code",
   "execution_count": 90,
   "metadata": {},
   "outputs": [
    {
     "data": {
      "text/plain": [
       "3"
      ]
     },
     "execution_count": 90,
     "metadata": {},
     "output_type": "execute_result"
    }
   ],
   "source": [
    "t2 = BinaryTree([[leaf, [leaf, leaf]], leaf])\n",
    "t2.size()"
   ]
  },
  {
   "cell_type": "code",
   "execution_count": 91,
   "metadata": {},
   "outputs": [
    {
     "data": {
      "text/plain": [
       "3"
      ]
     },
     "execution_count": 91,
     "metadata": {},
     "output_type": "execute_result"
    }
   ],
   "source": [
    "t3 = BinaryTree([leaf, [leaf, [leaf, leaf]]])\n",
    "t3.size()"
   ]
  },
  {
   "cell_type": "code",
   "execution_count": 92,
   "metadata": {},
   "outputs": [
    {
     "data": {
      "text/plain": [
       "3"
      ]
     },
     "execution_count": 92,
     "metadata": {},
     "output_type": "execute_result"
    }
   ],
   "source": [
    "t4 = BinaryTree([[[leaf, leaf], leaf], leaf])\n",
    "t4.size()"
   ]
  },
  {
   "cell_type": "markdown",
   "metadata": {},
   "source": [
    "Le but de ce TP est d'implanter les fonctions de la classe `BinaryTrees` ci-dessous (avec un \"s\" à la fin) qui représente *l'ensemble* des arbres binaires d'une taille donnée. La structure de la classe vous est donnée ainsi que les méthodes de base.\n",
    "\n",
    "**Complétez les méthodes manquantes puis exécutez les exemples ci-dessous.**"
   ]
  },
  {
   "cell_type": "code",
   "execution_count": 93,
   "metadata": {},
   "outputs": [],
   "source": [
    "import math\n",
    "import random\n",
    "class BinaryTrees():\n",
    "    \n",
    "    def __init__(self, size):\n",
    "        \"\"\"\n",
    "        The combinatorial set of binary trees of size `size`\n",
    "        \n",
    "        INPUT:\n",
    "        \n",
    "            - size a non negative integers\n",
    "        \"\"\"\n",
    "        self._size = size\n",
    "        \n",
    "    def size(self):\n",
    "        \"\"\"\n",
    "        Return the size of the binary trees of the set\n",
    "        \"\"\"\n",
    "        return self._size\n",
    "    \n",
    "    def __repr__(self):\n",
    "        \"\"\"\n",
    "        Default string repr of ``self``\n",
    "        \"\"\"\n",
    "        return \"Binary Trees of size \" + str(self._size)\n",
    "    \n",
    "    def cardinality(self):\n",
    "        \"\"\"\n",
    "        Return the cardinality of the set\n",
    "        \"\"\"\n",
    "        # This is given to you\n",
    "        n = self._size\n",
    "        f = math.factorial(n)\n",
    "        return math.factorial(2*n)/(f*f*(n+1))\n",
    "    \n",
    "    def __iter__(self):\n",
    "        \"\"\"\n",
    "        Iterator on the elements of the set\n",
    "        \"\"\"\n",
    "        # write code here\n",
    "        if not self._size:\n",
    "            yield BinaryTree()\n",
    "        else:\n",
    "            if self._size == 1:\n",
    "                yield BinaryTree([leaf, leaf])\n",
    "            else:\n",
    "                for i in range(self._size):\n",
    "                    for t1 in BinaryTrees(i):\n",
    "                        for t2 in BinaryTrees(self._size - i - 1):\n",
    "                            yield BinaryTree([t1, t2])\n",
    "                    \n",
    "    def first(self):\n",
    "        \"\"\"\n",
    "        Return the first element of the set \n",
    "        \"\"\"\n",
    "        for t in self:\n",
    "            return t\n",
    "                    \n",
    "    def rank(self,t):\n",
    "        \"\"\"\n",
    "        Return the rank of the binary tree t in the generation order of the set (starting at 0)\n",
    "        \n",
    "        INPUT:\n",
    "        \n",
    "            - t, a binary tree\n",
    "        \"\"\"\n",
    "        # write code here\n",
    "        cont = 0\n",
    "        for arbre in self:\n",
    "            if arbre == t:\n",
    "                return cont\n",
    "            else:\n",
    "                cont += 1\n",
    "    \n",
    "    def unrank(self,i):\n",
    "        \"\"\"\n",
    "        Return the binary tree corresponding to the rank ``i`` \n",
    "        \n",
    "        INPUT:\n",
    "        \n",
    "            - i, a integer between 0 and the cardinality minus 1\n",
    "        \"\"\"\n",
    "        # write code here\n",
    "        cont = 0\n",
    "        for t in self:\n",
    "            if cont == i:\n",
    "                return t\n",
    "            else:\n",
    "                cont += 1\n",
    "        \n",
    "        \n",
    "    def next(self,t):\n",
    "        \"\"\"\n",
    "        Return the next element following t in self\n",
    "        \n",
    "        INPUT :\n",
    "        \n",
    "            - t a binary tree\n",
    "            \n",
    "        OUPUT :\n",
    "        \n",
    "        The next binary tree or None if t is the last permutation of self\n",
    "        \"\"\"\n",
    "        # write code here\n",
    "        trank = self.rank(t)\n",
    "        if trank + 1 == self.cardinality():\n",
    "            return None\n",
    "        else:\n",
    "            nextrank = trank + 1\n",
    "            return self.unrank(nextrank)\n",
    "    \n",
    "    def random_element(self):\n",
    "        \"\"\"\n",
    "        Return a random element of ``self`` with uniform probability\n",
    "        \"\"\"\n",
    "        # write code here\n",
    "        tounrank = random.randint(0,self.cardinality()-1)\n",
    "        return self.unrank(tounrank)"
   ]
  },
  {
   "cell_type": "code",
   "execution_count": 94,
   "metadata": {},
   "outputs": [
    {
     "data": {
      "text/plain": [
       "Binary Trees of size 0"
      ]
     },
     "execution_count": 94,
     "metadata": {},
     "output_type": "execute_result"
    }
   ],
   "source": [
    "BinaryTrees(0)"
   ]
  },
  {
   "cell_type": "code",
   "execution_count": 95,
   "metadata": {},
   "outputs": [
    {
     "data": {
      "text/plain": [
       "[leaf]"
      ]
     },
     "execution_count": 95,
     "metadata": {},
     "output_type": "execute_result"
    }
   ],
   "source": [
    "list(BinaryTrees(0))"
   ]
  },
  {
   "cell_type": "code",
   "execution_count": 96,
   "metadata": {},
   "outputs": [
    {
     "data": {
      "text/plain": [
       "Binary Trees of size 1"
      ]
     },
     "execution_count": 96,
     "metadata": {},
     "output_type": "execute_result"
    }
   ],
   "source": [
    "BinaryTrees(1)"
   ]
  },
  {
   "cell_type": "code",
   "execution_count": 97,
   "metadata": {},
   "outputs": [
    {
     "data": {
      "text/plain": [
       "[(leaf, leaf)]"
      ]
     },
     "execution_count": 97,
     "metadata": {},
     "output_type": "execute_result"
    }
   ],
   "source": [
    "list(BinaryTrees(1))"
   ]
  },
  {
   "cell_type": "code",
   "execution_count": 98,
   "metadata": {},
   "outputs": [
    {
     "data": {
      "text/plain": [
       "Binary Trees of size 2"
      ]
     },
     "execution_count": 98,
     "metadata": {},
     "output_type": "execute_result"
    }
   ],
   "source": [
    "BinaryTrees(2)"
   ]
  },
  {
   "cell_type": "code",
   "execution_count": 99,
   "metadata": {},
   "outputs": [
    {
     "data": {
      "text/plain": [
       "[(leaf, (leaf, leaf)), ((leaf, leaf), leaf)]"
      ]
     },
     "execution_count": 99,
     "metadata": {},
     "output_type": "execute_result"
    }
   ],
   "source": [
    "list(BinaryTrees(2))"
   ]
  },
  {
   "cell_type": "code",
   "execution_count": 100,
   "metadata": {},
   "outputs": [
    {
     "data": {
      "text/plain": [
       "Binary Trees of size 3"
      ]
     },
     "execution_count": 100,
     "metadata": {},
     "output_type": "execute_result"
    }
   ],
   "source": [
    "BT3 = BinaryTrees(3)\n",
    "BT3"
   ]
  },
  {
   "cell_type": "code",
   "execution_count": 101,
   "metadata": {},
   "outputs": [
    {
     "data": {
      "text/plain": [
       "[(leaf, (leaf, (leaf, leaf))),\n",
       " (leaf, ((leaf, leaf), leaf)),\n",
       " ((leaf, leaf), (leaf, leaf)),\n",
       " ((leaf, (leaf, leaf)), leaf),\n",
       " (((leaf, leaf), leaf), leaf)]"
      ]
     },
     "execution_count": 101,
     "metadata": {},
     "output_type": "execute_result"
    }
   ],
   "source": [
    "list(BT3)"
   ]
  },
  {
   "cell_type": "code",
   "execution_count": 102,
   "metadata": {},
   "outputs": [],
   "source": [
    "t = BinaryTree(((leaf, leaf), (leaf, leaf)))"
   ]
  },
  {
   "cell_type": "code",
   "execution_count": 103,
   "metadata": {},
   "outputs": [
    {
     "data": {
      "text/plain": [
       "2"
      ]
     },
     "execution_count": 103,
     "metadata": {},
     "output_type": "execute_result"
    }
   ],
   "source": [
    "BT3.rank(t)"
   ]
  },
  {
   "cell_type": "code",
   "execution_count": 104,
   "metadata": {},
   "outputs": [
    {
     "data": {
      "text/plain": [
       "((leaf, leaf), (leaf, leaf))"
      ]
     },
     "execution_count": 104,
     "metadata": {},
     "output_type": "execute_result"
    }
   ],
   "source": [
    "BT3.unrank(2)"
   ]
  },
  {
   "cell_type": "code",
   "execution_count": 105,
   "metadata": {},
   "outputs": [
    {
     "data": {
      "text/plain": [
       "((leaf, (leaf, leaf)), leaf)"
      ]
     },
     "execution_count": 105,
     "metadata": {},
     "output_type": "execute_result"
    }
   ],
   "source": [
    "BT3.next(t)"
   ]
  },
  {
   "cell_type": "code",
   "execution_count": 106,
   "metadata": {},
   "outputs": [
    {
     "data": {
      "text/plain": [
       "(((leaf, leaf), leaf), leaf)"
      ]
     },
     "execution_count": 106,
     "metadata": {},
     "output_type": "execute_result"
    }
   ],
   "source": [
    "BT3.random_element()"
   ]
  },
  {
   "cell_type": "markdown",
   "metadata": {},
   "source": [
    "La suite de tests que nous avions définies sur les permutations peut aussi s'appliquer sur les arbres binaires. \n",
    "\n",
    "**Exécutez la cellule suivante puis vérifiez que les tests passent sur les exemples**."
   ]
  },
  {
   "cell_type": "code",
   "execution_count": 107,
   "metadata": {},
   "outputs": [],
   "source": [
    "def test_cardinality_iter(S):\n",
    "    assert(len(list(S)) == S.cardinality())\n",
    "\n",
    "def test_rank(S):\n",
    "    assert([S.rank(p) for p in S] == range(S.cardinality()))\n",
    "    \n",
    "def test_unrank(S):\n",
    "    assert(list(S) == [S.unrank(i) for i in xrange(S.cardinality())])\n",
    "    \n",
    "def test_next(S):\n",
    "    L = [S.first()]\n",
    "    while True:\n",
    "        p = S.next(L[-1])\n",
    "        if p == None:\n",
    "            break\n",
    "        L.append(p)\n",
    "    assert(L == list(S))\n",
    "            \n",
    "    \n",
    "def all_tests(S):\n",
    "    tests = {\"Cardinality / iter\": test_cardinality_iter, \"Rank\": test_rank, \"Unrank\": test_unrank, \"Next\": test_next}\n",
    "    for k in tests:\n",
    "        print \"Testsing: \"+ k\n",
    "        try:\n",
    "            tests[k](S)\n",
    "            print \"Passed\"\n",
    "        except AssertionError:\n",
    "            print \"Not passed\""
   ]
  },
  {
   "cell_type": "code",
   "execution_count": 108,
   "metadata": {},
   "outputs": [
    {
     "name": "stdout",
     "output_type": "stream",
     "text": [
      "Testsing: Next\n",
      "Passed\n",
      "Testsing: Cardinality / iter\n",
      "Passed\n",
      "Testsing: Rank\n",
      "Passed\n",
      "Testsing: Unrank\n",
      "Passed\n"
     ]
    }
   ],
   "source": [
    "all_tests(BinaryTrees(3))"
   ]
  },
  {
   "cell_type": "code",
   "execution_count": 109,
   "metadata": {},
   "outputs": [
    {
     "name": "stdout",
     "output_type": "stream",
     "text": [
      "Testsing: Next\n",
      "Passed\n",
      "Testsing: Cardinality / iter\n",
      "Passed\n",
      "Testsing: Rank\n",
      "Passed\n",
      "Testsing: Unrank\n",
      "Passed\n"
     ]
    }
   ],
   "source": [
    "all_tests(BinaryTrees(4))"
   ]
  },
  {
   "cell_type": "code",
   "execution_count": 110,
   "metadata": {},
   "outputs": [
    {
     "name": "stdout",
     "output_type": "stream",
     "text": [
      "Testsing: Next\n",
      "Passed\n",
      "Testsing: Cardinality / iter\n",
      "Passed\n",
      "Testsing: Rank\n",
      "Passed\n",
      "Testsing: Unrank\n",
      "Passed\n"
     ]
    }
   ],
   "source": [
    "all_tests(BinaryTrees(5))"
   ]
  },
  {
   "cell_type": "code",
   "execution_count": 111,
   "metadata": {},
   "outputs": [
    {
     "name": "stdout",
     "output_type": "stream",
     "text": [
      "Testsing: Next\n",
      "Passed\n",
      "Testsing: Cardinality / iter\n",
      "Passed\n",
      "Testsing: Rank\n",
      "Passed\n",
      "Testsing: Unrank\n",
      "Passed\n"
     ]
    }
   ],
   "source": [
    "all_tests(BinaryTrees(6))"
   ]
  },
  {
   "cell_type": "markdown",
   "metadata": {},
   "source": [
    "Voici une fonction qui calcule un arbre binaire aléatoire. On se demande si chaque arbre est obenu avec une probabilité uniforme.\n",
    "\n",
    "**Exécutez les cellules ci-dessous puis déterminez expérimentalment si la distribution de probabilité est uniforme**."
   ]
  },
  {
   "cell_type": "code",
   "execution_count": 112,
   "metadata": {},
   "outputs": [],
   "source": [
    "import random\n",
    "def random_grow(t):\n",
    "    \"\"\"\n",
    "    Randomly grows a binary tree \n",
    "    \n",
    "    INPUT:\n",
    "    \n",
    "        - t, a binary tree of size n\n",
    "        \n",
    "    OUTPUT: a binary tree of size n+1\n",
    "    \"\"\"\n",
    "    if t.is_leaf():\n",
    "        return BinaryTree([leaf,leaf])\n",
    "    c = [t.left(),t.right()]\n",
    "    i = random.randint(0,1)\n",
    "    c[i] = random_grow(c[i])\n",
    "    return BinaryTree(c)\n",
    "\n",
    "def random_binary_tree(n):\n",
    "    \"\"\"\n",
    "    Return a random binary tree of size n\n",
    "    \"\"\"\n",
    "    t = leaf\n",
    "    for i in xrange(n):\n",
    "        t = random_grow(t)\n",
    "    return t"
   ]
  },
  {
   "cell_type": "code",
   "execution_count": 114,
   "metadata": {},
   "outputs": [
    {
     "data": {
      "text/plain": [
       "(((leaf, (leaf, leaf)), (leaf, leaf)), ((leaf, leaf), ((leaf, leaf), (leaf, leaf))))"
      ]
     },
     "execution_count": 114,
     "metadata": {},
     "output_type": "execute_result"
    }
   ],
   "source": [
    "random_binary_tree(10)"
   ]
  },
  {
   "cell_type": "code",
   "execution_count": 124,
   "metadata": {},
   "outputs": [
    {
     "name": "stdout",
     "output_type": "stream",
     "text": [
      "[0, 0, 4, 0, 0, 7, 11, 11, 9, 3, 1, 1, 0, 2, 30, 37, 131, 30, 40, 98, 97, 90, 92, 30, 34, 121, 23, 39, 2, 0, 6, 0, 0, 11, 16, 6, 11, 0, 0, 5, 1, 1]\n"
     ]
    }
   ],
   "source": [
    "aux = BinaryTrees(5)\n",
    "dist = [0]*aux.cardinality()\n",
    "for index in range(1000):\n",
    "    newt = random_binary_tree(5)\n",
    "    rankt = aux.rank(newt)\n",
    "    dist[rankt] += 1\n",
    "print dist"
   ]
  },
  {
   "cell_type": "code",
   "execution_count": null,
   "metadata": {},
   "outputs": [],
   "source": []
  },
  {
   "cell_type": "code",
   "execution_count": null,
   "metadata": {},
   "outputs": [],
   "source": []
  },
  {
   "cell_type": "markdown",
   "metadata": {},
   "source": [
    "La *hauteur* d'un arbre se calcule récursivement : pour une feuille, la hauteur est 0, sinon c'est le max de la hauteur des fils +1. \n",
    "\n",
    "**Rajoutez une méthode `height` à la classe des arbres binaires et vérifiez son fonctionnement avec les tests suivants**."
   ]
  },
  {
   "cell_type": "code",
   "execution_count": 129,
   "metadata": {},
   "outputs": [],
   "source": [
    "assert BinaryTree([[leaf,leaf], leaf]).height() == 2\n",
    "assert BinaryTree([leaf,[leaf, leaf]]).height() == 2\n",
    "assert BinaryTree([[leaf,leaf], [leaf,leaf]]).height() == 2\n",
    "assert BinaryTree([[leaf,[leaf,leaf]], [leaf,leaf]]).height() == 3"
   ]
  },
  {
   "cell_type": "markdown",
   "metadata": {},
   "source": [
    "**Calculez la hauteur moyenne de 100 arbres aléatoire de tailles 10, 100 et de 10 arbres aléatoires de taille 500, d'abord avec la méthode uniforme (de la classe `BinaryTrees`) puis avec la fonction `random_trees` interprétez le résultat** "
   ]
  },
  {
   "cell_type": "code",
   "execution_count": 137,
   "metadata": {},
   "outputs": [],
   "source": [
    "cor = {10:0, 100:1, 500:2}\n",
    "height_uniform = [0]*3\n",
    "height_random = [0]*3\n",
    "Bin10 = BinaryTrees(10)\n",
    "Bin100 = BinaryTrees(100)\n",
    "Bin500 = BinaryTrees(500)\n",
    "for i in range(100):\n",
    "    height_uniform[0] += Bin10.random_element().height()\n",
    "    height_random[0] += random_binary_tree(10).height()\n",
    "height_uniform[0] /= 100.\n",
    "height_random[0] /= 100.\n",
    "for i in range(100):\n",
    "    height_uniform[1] += Bin100.random_element().height()\n",
    "    height_random[1] += random_binary_tree(100).height()\n",
    "height_uniform[1] /= 100.\n",
    "height_random[1] /= 100.\n",
    "for i in range(10):\n",
    "    height_uniform[2] += Bin500.random_element().height()\n",
    "    height_random[2] += random_binary_tree(500).height()\n",
    "height_uniform[2] /= 10.\n",
    "height_random[2] /= 10."
   ]
  },
  {
   "cell_type": "code",
   "execution_count": null,
   "metadata": {},
   "outputs": [],
   "source": []
  },
  {
   "cell_type": "code",
   "execution_count": null,
   "metadata": {},
   "outputs": [],
   "source": []
  }
 ],
 "metadata": {
  "kernelspec": {
   "display_name": "Python 2",
   "language": "python",
   "name": "python2"
  },
  "language_info": {
   "codemirror_mode": {
    "name": "ipython",
    "version": 2
   },
   "file_extension": ".py",
   "mimetype": "text/x-python",
   "name": "python",
   "nbconvert_exporter": "python",
   "pygments_lexer": "ipython2",
   "version": "2.7.12"
  }
 },
 "nbformat": 4,
 "nbformat_minor": 2
}
